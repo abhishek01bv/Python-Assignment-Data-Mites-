{
  "cells": [
    {
      "cell_type": "markdown",
      "metadata": {
        "id": "view-in-github",
        "colab_type": "text"
      },
      "source": [
        "<a href=\"https://colab.research.google.com/github/abhishek01bv/Python-Assignment-Data-Mites-/blob/main/Python_Assignment_Questions_2.ipynb\" target=\"_parent\"><img src=\"https://colab.research.google.com/assets/colab-badge.svg\" alt=\"Open In Colab\"/></a>"
      ]
    },
    {
      "cell_type": "markdown",
      "id": "2e7047ff",
      "metadata": {
        "id": "2e7047ff"
      },
      "source": [
        "1) From the below nested dictionary, pick the word \"Bangalore\".\n",
        "   d = {'1':'One','2':[1,{'Two':['Ch','Cbe','Salem',{'Place':[5,6,7,'Bangalore']}]}]}"
      ]
    },
    {
      "cell_type": "markdown",
      "id": "518fde26",
      "metadata": {
        "id": "518fde26"
      },
      "source": [
        "2) Write a program to reverse a string using while loop"
      ]
    },
    {
      "cell_type": "markdown",
      "id": "28424ca1",
      "metadata": {
        "id": "28424ca1"
      },
      "source": [
        "3) Write a program to find sum of all numbers from 1 to 20 using for loop"
      ]
    },
    {
      "cell_type": "markdown",
      "id": "1798f1ee",
      "metadata": {
        "id": "1798f1ee"
      },
      "source": [
        "4) Write a program to display the numbers in reverse from 100 to 1"
      ]
    },
    {
      "cell_type": "markdown",
      "id": "e9a38446",
      "metadata": {
        "id": "e9a38446"
      },
      "source": [
        "5) Write program to test whether the given number lies between 1 and 10"
      ]
    },
    {
      "cell_type": "markdown",
      "id": "f183d5ae",
      "metadata": {
        "id": "f183d5ae"
      },
      "source": [
        "6) Write program to display multiples of 2 from 10 to 50 using range"
      ]
    },
    {
      "cell_type": "markdown",
      "id": "30f7deb4",
      "metadata": {
        "id": "30f7deb4"
      },
      "source": [
        "7) Use functions to return square of numbers from 2 to 5"
      ]
    },
    {
      "cell_type": "markdown",
      "id": "e8ba219f",
      "metadata": {
        "id": "e8ba219f"
      },
      "source": [
        "8) Write a function calculation() such that it can accept two variables and calculate the addition and subtraction of it.And also it must return both addition and subtraction in a single return call"
      ]
    },
    {
      "cell_type": "markdown",
      "id": "bb1056dc",
      "metadata": {
        "id": "bb1056dc"
      },
      "source": [
        "9) Create a function showEmployee() in such a way that it should accept employee name, and it’s salary and display both,and if the salary is missing in function call it should show it as 9000"
      ]
    },
    {
      "cell_type": "markdown",
      "id": "a5c0e209",
      "metadata": {
        "id": "a5c0e209"
      },
      "source": [
        "10) Write a recursive function to calculate the sum of numbers from 0 to 10"
      ]
    },
    {
      "cell_type": "markdown",
      "id": "f5639b2a",
      "metadata": {
        "id": "f5639b2a"
      },
      "source": [
        "11) Generate a Python list of all the even numbers between 4 to 30"
      ]
    },
    {
      "cell_type": "markdown",
      "id": "771baa17",
      "metadata": {
        "id": "771baa17"
      },
      "source": [
        "12) Write a Python program which accepts the radius of a circle from the user and compute the area."
      ]
    },
    {
      "cell_type": "markdown",
      "id": "6bacaca0",
      "metadata": {
        "id": "6bacaca0"
      },
      "source": [
        "13. Write a Python program to display the current date and time"
      ]
    },
    {
      "cell_type": "markdown",
      "id": "72c92654",
      "metadata": {
        "id": "72c92654"
      },
      "source": [
        "14. Write a Python program to calculate number of days between two dates. Sample dates : (2014, 7, 2), (2014, 7, 11)"
      ]
    },
    {
      "cell_type": "markdown",
      "id": "26e1d7a2",
      "metadata": {
        "id": "26e1d7a2"
      },
      "source": [
        "15. Write a Python program to get the difference between a given number and 17, if the number is greater than 17 return double the absolute difference"
      ]
    },
    {
      "cell_type": "markdown",
      "id": "a8ef7915",
      "metadata": {
        "id": "a8ef7915"
      },
      "source": [
        "16.  Write a Python program to get the difference between a given number and 17, if the number is greater than 17 return double the absolute difference"
      ]
    },
    {
      "cell_type": "markdown",
      "id": "e272118a",
      "metadata": {
        "id": "e272118a"
      },
      "source": [
        "17. We have set, set1={5,6,7,8} How to add multiple items 12,15,18 in set1?\n",
        "\n"
      ]
    },
    {
      "cell_type": "markdown",
      "id": "1d9d6419",
      "metadata": {
        "id": "1d9d6419"
      },
      "source": [
        "18. Write a Python program which accepts a sequence of comma-separated numbers from user and generate a list and a tuple with those numbers"
      ]
    },
    {
      "cell_type": "markdown",
      "id": "184195ec",
      "metadata": {
        "id": "184195ec"
      },
      "source": [
        "19. Convert Celsius to Fahrenheit using a lambda function"
      ]
    },
    {
      "cell_type": "markdown",
      "id": "994e7316",
      "metadata": {
        "id": "994e7316"
      },
      "source": [
        "20. Find the maximum of two numbers using a lambda function"
      ]
    },
    {
      "cell_type": "code",
      "execution_count": 4,
      "id": "cefb40d3",
      "metadata": {
        "id": "cefb40d3",
        "outputId": "3579d141-61e5-4842-aae9-ab25bc15e0f0",
        "colab": {
          "base_uri": "https://localhost:8080/",
          "height": 36
        }
      },
      "outputs": [
        {
          "output_type": "execute_result",
          "data": {
            "text/plain": [
              "'Bangalore'"
            ],
            "application/vnd.google.colaboratory.intrinsic+json": {
              "type": "string"
            }
          },
          "metadata": {},
          "execution_count": 4
        }
      ],
      "source": [
        "#!\n",
        "d = {'1':'One','2':[1,{'Two':['Ch','Cbe','Salem',{'Place':[5,6,7,'Bangalore']}]}]}\n",
        "d['2'][1]['Two'][3]['Place'][3]\n"
      ]
    },
    {
      "cell_type": "code",
      "source": [
        "#2\n",
        "string  = 'Bangalore'\n",
        "b=''\n",
        "while string:\n",
        "  b+=string[-1]\n",
        "  string = string[:-1]\n",
        "print(b)\n"
      ],
      "metadata": {
        "id": "qLQNBuTonxHd",
        "outputId": "4c1f2542-fc0b-419e-d6af-cf609c893b0b",
        "colab": {
          "base_uri": "https://localhost:8080/"
        }
      },
      "id": "qLQNBuTonxHd",
      "execution_count": 9,
      "outputs": [
        {
          "output_type": "stream",
          "name": "stdout",
          "text": [
            "erolagnaB\n"
          ]
        }
      ]
    },
    {
      "cell_type": "code",
      "source": [
        "#3\n",
        "a=0\n",
        "for i in range(0,21):\n",
        "  a =a+i\n",
        "  print(a)"
      ],
      "metadata": {
        "id": "M1x1fdumo9RX",
        "outputId": "f1b9f2d8-7f77-45ea-bd74-39842d094660",
        "colab": {
          "base_uri": "https://localhost:8080/"
        }
      },
      "id": "M1x1fdumo9RX",
      "execution_count": 11,
      "outputs": [
        {
          "output_type": "stream",
          "name": "stdout",
          "text": [
            "0\n",
            "1\n",
            "3\n",
            "6\n",
            "10\n",
            "15\n",
            "21\n",
            "28\n",
            "36\n",
            "45\n",
            "55\n",
            "66\n",
            "78\n",
            "91\n",
            "105\n",
            "120\n",
            "136\n",
            "153\n",
            "171\n",
            "190\n",
            "210\n"
          ]
        }
      ]
    },
    {
      "cell_type": "code",
      "source": [
        " #4\n",
        " a = 100\n",
        " while a>=1:\n",
        "  print(a)\n",
        "  a-=1"
      ],
      "metadata": {
        "id": "VmXcGiTxpmcb",
        "outputId": "33c6687c-4080-442a-c54b-24e36f4e2b42",
        "colab": {
          "base_uri": "https://localhost:8080/"
        }
      },
      "id": "VmXcGiTxpmcb",
      "execution_count": 12,
      "outputs": [
        {
          "output_type": "stream",
          "name": "stdout",
          "text": [
            "100\n",
            "99\n",
            "98\n",
            "97\n",
            "96\n",
            "95\n",
            "94\n",
            "93\n",
            "92\n",
            "91\n",
            "90\n",
            "89\n",
            "88\n",
            "87\n",
            "86\n",
            "85\n",
            "84\n",
            "83\n",
            "82\n",
            "81\n",
            "80\n",
            "79\n",
            "78\n",
            "77\n",
            "76\n",
            "75\n",
            "74\n",
            "73\n",
            "72\n",
            "71\n",
            "70\n",
            "69\n",
            "68\n",
            "67\n",
            "66\n",
            "65\n",
            "64\n",
            "63\n",
            "62\n",
            "61\n",
            "60\n",
            "59\n",
            "58\n",
            "57\n",
            "56\n",
            "55\n",
            "54\n",
            "53\n",
            "52\n",
            "51\n",
            "50\n",
            "49\n",
            "48\n",
            "47\n",
            "46\n",
            "45\n",
            "44\n",
            "43\n",
            "42\n",
            "41\n",
            "40\n",
            "39\n",
            "38\n",
            "37\n",
            "36\n",
            "35\n",
            "34\n",
            "33\n",
            "32\n",
            "31\n",
            "30\n",
            "29\n",
            "28\n",
            "27\n",
            "26\n",
            "25\n",
            "24\n",
            "23\n",
            "22\n",
            "21\n",
            "20\n",
            "19\n",
            "18\n",
            "17\n",
            "16\n",
            "15\n",
            "14\n",
            "13\n",
            "12\n",
            "11\n",
            "10\n",
            "9\n",
            "8\n",
            "7\n",
            "6\n",
            "5\n",
            "4\n",
            "3\n",
            "2\n",
            "1\n"
          ]
        }
      ]
    },
    {
      "cell_type": "code",
      "source": [
        "#5\n",
        "a = int(input('enter the number'))\n",
        "if a in range(1, 11):\n",
        "  print('yes')\n",
        "else:\n",
        "  print('no')"
      ],
      "metadata": {
        "id": "_GrfeEw6qAdO",
        "outputId": "610c96f8-9668-4eaa-9587-1df8bb5adcf4",
        "colab": {
          "base_uri": "https://localhost:8080/"
        }
      },
      "id": "_GrfeEw6qAdO",
      "execution_count": 14,
      "outputs": [
        {
          "output_type": "stream",
          "name": "stdout",
          "text": [
            "enter the number2\n",
            "yes\n"
          ]
        }
      ]
    },
    {
      "cell_type": "code",
      "source": [
        "#6\n",
        "for i in range(10,51,2):\n",
        "  print(i)"
      ],
      "metadata": {
        "id": "3zwnSTAzqlGA",
        "outputId": "c9e4893a-ffec-4f35-dbb0-33272fe77f27",
        "colab": {
          "base_uri": "https://localhost:8080/"
        }
      },
      "id": "3zwnSTAzqlGA",
      "execution_count": 15,
      "outputs": [
        {
          "output_type": "stream",
          "name": "stdout",
          "text": [
            "10\n",
            "12\n",
            "14\n",
            "16\n",
            "18\n",
            "20\n",
            "22\n",
            "24\n",
            "26\n",
            "28\n",
            "30\n",
            "32\n",
            "34\n",
            "36\n",
            "38\n",
            "40\n",
            "42\n",
            "44\n",
            "46\n",
            "48\n",
            "50\n"
          ]
        }
      ]
    },
    {
      "cell_type": "code",
      "source": [
        "#7\n",
        "a = []\n",
        "def sq():\n",
        "  for i in range(2,6):\n",
        "    print(i**2)\n",
        "\n",
        "sq()"
      ],
      "metadata": {
        "id": "wZoNt1zXq2Ea",
        "outputId": "8dffc981-0cb8-4323-898a-ef03529f8654",
        "colab": {
          "base_uri": "https://localhost:8080/"
        }
      },
      "id": "wZoNt1zXq2Ea",
      "execution_count": 24,
      "outputs": [
        {
          "output_type": "stream",
          "name": "stdout",
          "text": [
            "4\n",
            "9\n",
            "16\n",
            "25\n"
          ]
        }
      ]
    },
    {
      "cell_type": "code",
      "source": [
        "#8\n",
        "def calculator():\n",
        "  a = int(input('enter the number'))\n",
        "  b= int(input('enter the number'))\n",
        "  s = a+b\n",
        "  d = a-b\n",
        "  return s,d\n",
        "calculator()"
      ],
      "metadata": {
        "id": "CoiylOg2rpix",
        "outputId": "e53d4625-d900-4363-ebbb-320ad99f8fed",
        "colab": {
          "base_uri": "https://localhost:8080/"
        }
      },
      "id": "CoiylOg2rpix",
      "execution_count": 25,
      "outputs": [
        {
          "name": "stdout",
          "output_type": "stream",
          "text": [
            "enter the number7\n",
            "enter the number5\n"
          ]
        },
        {
          "output_type": "execute_result",
          "data": {
            "text/plain": [
              "(12, 2)"
            ]
          },
          "metadata": {},
          "execution_count": 25
        }
      ]
    },
    {
      "cell_type": "code",
      "source": [
        "#9\n",
        "def showEmployee():\n",
        "  name = input('enter the name: ')\n",
        "  salary = input('enter the salary')\n",
        "  if salary == '':\n",
        "    print('9000')\n",
        "\n",
        "  return name,salary\n",
        "showEmployee()\n",
        "\n"
      ],
      "metadata": {
        "id": "PRuV2GyetFOg",
        "outputId": "4740b173-f03d-41ed-df6a-8d450386d06d",
        "colab": {
          "base_uri": "https://localhost:8080/"
        }
      },
      "id": "PRuV2GyetFOg",
      "execution_count": 51,
      "outputs": [
        {
          "output_type": "stream",
          "name": "stdout",
          "text": [
            "enter the name: abc\n",
            "enter the salary\n",
            "9000\n"
          ]
        },
        {
          "output_type": "execute_result",
          "data": {
            "text/plain": [
              "('abc', '')"
            ]
          },
          "metadata": {},
          "execution_count": 51
        }
      ]
    },
    {
      "cell_type": "code",
      "source": [
        "# 10\n",
        "def recursive():\n",
        "  a = 0\n",
        "  for i in range(0,11):\n",
        "    a+= i\n",
        "    print(a)\n",
        "recursive()\n"
      ],
      "metadata": {
        "id": "X6dj2M2buG_8",
        "outputId": "1db57933-2156-4f4a-98ff-a57c35152857",
        "colab": {
          "base_uri": "https://localhost:8080/"
        }
      },
      "id": "X6dj2M2buG_8",
      "execution_count": 30,
      "outputs": [
        {
          "output_type": "stream",
          "name": "stdout",
          "text": [
            "0\n",
            "1\n",
            "3\n",
            "6\n",
            "10\n",
            "15\n",
            "21\n",
            "28\n",
            "36\n",
            "45\n",
            "55\n"
          ]
        }
      ]
    },
    {
      "cell_type": "code",
      "source": [
        "#11\n",
        "a = []\n",
        "for i in range(4,31,2):\n",
        "  a.append(i)\n",
        "\n",
        "print(a)\n"
      ],
      "metadata": {
        "id": "M7DGgjolvsQD",
        "outputId": "e206463e-ba2d-4066-a9d8-8ce25c04ffad",
        "colab": {
          "base_uri": "https://localhost:8080/"
        }
      },
      "id": "M7DGgjolvsQD",
      "execution_count": 27,
      "outputs": [
        {
          "output_type": "stream",
          "name": "stdout",
          "text": [
            "[4, 6, 8, 10, 12, 14, 16, 18, 20, 22, 24, 26, 28, 30]\n"
          ]
        }
      ]
    },
    {
      "cell_type": "code",
      "source": [
        "#12\n",
        "radius = int(input('enter the radius of the circle '))\n",
        "area = 3.14*radius**2\n",
        "print(area)"
      ],
      "metadata": {
        "id": "yxuC7lBrwTMt",
        "outputId": "bfc6cdb8-0d7b-474c-c1cb-390aa6311632",
        "colab": {
          "base_uri": "https://localhost:8080/"
        }
      },
      "id": "yxuC7lBrwTMt",
      "execution_count": 32,
      "outputs": [
        {
          "output_type": "stream",
          "name": "stdout",
          "text": [
            "enter the radius of the circle 5\n",
            "78.5\n"
          ]
        }
      ]
    },
    {
      "cell_type": "code",
      "source": [
        "#13\n",
        "import datetime\n",
        "now = datetime.datetime.now()\n",
        "print(now)"
      ],
      "metadata": {
        "id": "yza64ZX7w72_",
        "outputId": "a072d4bd-8796-4787-b80c-c859dc3604fd",
        "colab": {
          "base_uri": "https://localhost:8080/"
        }
      },
      "id": "yza64ZX7w72_",
      "execution_count": 33,
      "outputs": [
        {
          "output_type": "stream",
          "name": "stdout",
          "text": [
            "2024-07-30 17:51:23.625940\n"
          ]
        }
      ]
    },
    {
      "cell_type": "code",
      "source": [
        "#14\n",
        "import datetime\n",
        "\n",
        "a = datetime.date(2014,7,15)\n",
        "b = datetime.date(2014,7,11)\n",
        "delta = a-b\n",
        "print(delta.days)"
      ],
      "metadata": {
        "id": "gClkDY_exJ6-",
        "outputId": "27f617da-6de6-4fea-a53c-4ec58fd44ac6",
        "colab": {
          "base_uri": "https://localhost:8080/"
        }
      },
      "id": "gClkDY_exJ6-",
      "execution_count": 37,
      "outputs": [
        {
          "output_type": "stream",
          "name": "stdout",
          "text": [
            "4\n"
          ]
        }
      ]
    },
    {
      "cell_type": "code",
      "source": [
        "#15\n",
        "def dif():\n",
        "  num = int(input('enter the number: '))\n",
        "  a = num - 17\n",
        "  if num > 17:\n",
        "    return a+a\n",
        "  else:\n",
        "    return a\n",
        "dif()"
      ],
      "metadata": {
        "id": "dDIxfY65yQfU",
        "outputId": "5fe591f1-7066-4738-d85b-f1dfaf0ccfad",
        "colab": {
          "base_uri": "https://localhost:8080/"
        }
      },
      "id": "dDIxfY65yQfU",
      "execution_count": 40,
      "outputs": [
        {
          "name": "stdout",
          "output_type": "stream",
          "text": [
            "enter the number: 20\n"
          ]
        },
        {
          "output_type": "execute_result",
          "data": {
            "text/plain": [
              "6"
            ]
          },
          "metadata": {},
          "execution_count": 40
        }
      ]
    },
    {
      "cell_type": "code",
      "source": [
        "#17\n",
        "set1={5,6,7,8}\n",
        "set1.add(12)\n",
        "set1.add(15)\n",
        "set1.add(18)\n",
        "print(set1)\n"
      ],
      "metadata": {
        "id": "ZJ5m0mPp1MRs",
        "outputId": "8e15c151-5616-4aae-a74b-f370d4b8a782",
        "colab": {
          "base_uri": "https://localhost:8080/"
        }
      },
      "id": "ZJ5m0mPp1MRs",
      "execution_count": 41,
      "outputs": [
        {
          "output_type": "stream",
          "name": "stdout",
          "text": [
            "{5, 6, 7, 8, 12, 15, 18}\n"
          ]
        }
      ]
    },
    {
      "cell_type": "code",
      "source": [
        "#18\n",
        "cm = input('enter the number')\n",
        "cm = cm.split(',')\n",
        "print(cm)\n",
        "lis = list(cm)\n",
        "tup = tuple(cm)\n",
        "print(lis)\n",
        "print(tup)"
      ],
      "metadata": {
        "id": "AE9HugCz18fw",
        "outputId": "dca127e2-d2a1-41a2-bc30-77d41d861d91",
        "colab": {
          "base_uri": "https://localhost:8080/"
        }
      },
      "id": "AE9HugCz18fw",
      "execution_count": 45,
      "outputs": [
        {
          "output_type": "stream",
          "name": "stdout",
          "text": [
            "enter the number10 2\n",
            "['10 2']\n",
            "['10 2']\n",
            "('10 2',)\n"
          ]
        }
      ]
    },
    {
      "cell_type": "code",
      "source": [
        "#19\n",
        "celsius_to_fahrenheit = lambda c: (c * 9/5) + 32\n",
        "\n",
        "celsius = int(input('enter the number'))\n",
        "fahrenheit = celsius_to_fahrenheit(celsius)\n",
        "print(f\"{celsius}°C is {fahrenheit}°F\")\n"
      ],
      "metadata": {
        "id": "66QmxO2_3sTE",
        "outputId": "87d24bc5-611d-4f9b-95d1-aec432957948",
        "colab": {
          "base_uri": "https://localhost:8080/"
        }
      },
      "id": "66QmxO2_3sTE",
      "execution_count": 47,
      "outputs": [
        {
          "output_type": "stream",
          "name": "stdout",
          "text": [
            "enter the number35\n",
            "35°C is 95.0°F\n"
          ]
        }
      ]
    },
    {
      "cell_type": "code",
      "source": [
        "#20\n",
        "maxi_of_two = lambda a,b: a if a>b else b\n",
        "a = int(input('enter the number'))\n",
        "b = int(input('enter the number'))\n",
        "print(maxi_of_two(a,b))"
      ],
      "metadata": {
        "id": "RJebxlTY4FeA",
        "outputId": "dc83901d-9cc3-46ee-f088-8a7d28d156ec",
        "colab": {
          "base_uri": "https://localhost:8080/"
        }
      },
      "id": "RJebxlTY4FeA",
      "execution_count": 50,
      "outputs": [
        {
          "output_type": "stream",
          "name": "stdout",
          "text": [
            "enter the number8\n",
            "enter the number5\n",
            "8\n"
          ]
        }
      ]
    },
    {
      "cell_type": "code",
      "source": [],
      "metadata": {
        "id": "rFUYQxRh4lX_"
      },
      "id": "rFUYQxRh4lX_",
      "execution_count": null,
      "outputs": []
    }
  ],
  "metadata": {
    "kernelspec": {
      "display_name": "Python 3 (ipykernel)",
      "language": "python",
      "name": "python3"
    },
    "language_info": {
      "codemirror_mode": {
        "name": "ipython",
        "version": 3
      },
      "file_extension": ".py",
      "mimetype": "text/x-python",
      "name": "python",
      "nbconvert_exporter": "python",
      "pygments_lexer": "ipython3",
      "version": "3.9.7"
    },
    "colab": {
      "provenance": [],
      "include_colab_link": true
    }
  },
  "nbformat": 4,
  "nbformat_minor": 5
}